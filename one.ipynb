{
 "cells": [
  {
   "cell_type": "code",
   "execution_count": 1,
   "id": "0cebcdfa",
   "metadata": {},
   "outputs": [],
   "source": [
    "import cv2\n",
    "import os \n",
    "import time \n",
    "import uuid"
   ]
  },
  {
   "cell_type": "code",
   "execution_count": 2,
   "id": "0db796c9",
   "metadata": {},
   "outputs": [],
   "source": [
    "# if not os.path.exists('my_folder'):\n",
    "#     os.makedirs('my_folder')\n",
    "IMAGES_PATH = 'Tensorflow/workspace/images/collectedimages'"
   ]
  },
  {
   "cell_type": "code",
   "execution_count": 3,
   "id": "a48c14fe",
   "metadata": {},
   "outputs": [],
   "source": [
    "labels = ['hello', 'thanks', 'yes', 'no', 'iloveyou']\n",
    "number_imgs = 15"
   ]
  },
  {
   "cell_type": "code",
   "execution_count": 4,
   "id": "ab446c24",
   "metadata": {},
   "outputs": [
    {
     "name": "stdout",
     "output_type": "stream",
     "text": [
      "Collecting images for hello\n",
      "Collecting images for thanks\n",
      "Collecting images for yes\n",
      "Collecting images for no\n",
      "Collecting images for iloveyou\n"
     ]
    }
   ],
   "source": [
    "# for label in labels:\n",
    "#     if not os.path.exists('Tensorflow/workspace/images/collectedimages/'+label):\n",
    "#         os.makedirs('Tensorflow/workspace/images/collectedimages/' + label)\n",
    "#     cap = cv2.VideoCapture(0)\n",
    "#     print('Collecting images for {}'.format(label))\n",
    "#     count = 0 \n",
    "#     for imgnum in range(number_imgs):\n",
    "#         ret,frame = cap.read()\n",
    "#         imagename = os.path.join(IMAGES_PATH, label, label+'{}.jpg'.format(count))\n",
    "#         cv2.imwrite(imagename,frame)\n",
    "#         cv2.imshow('frame',frame)\n",
    "#         time.sleep(2)\n",
    "#         count += 1\n",
    "        \n",
    "#         if cv2.waitKey(1) & 0xFF == ord('q'):\n",
    "#             break\n",
    "            \n",
    "#     cap.release()\n",
    "#     cv2.destroyAllWindows()"
   ]
  },
  {
   "cell_type": "code",
   "execution_count": null,
   "id": "5528c23b",
   "metadata": {},
   "outputs": [],
   "source": []
  }
 ],
 "metadata": {
  "kernelspec": {
   "display_name": "Python 3 (ipykernel)",
   "language": "python",
   "name": "python3"
  },
  "language_info": {
   "codemirror_mode": {
    "name": "ipython",
    "version": 3
   },
   "file_extension": ".py",
   "mimetype": "text/x-python",
   "name": "python",
   "nbconvert_exporter": "python",
   "pygments_lexer": "ipython3",
   "version": "3.8.10"
  }
 },
 "nbformat": 4,
 "nbformat_minor": 5
}
